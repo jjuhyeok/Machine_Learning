{
  "nbformat": 4,
  "nbformat_minor": 0,
  "metadata": {
    "colab": {
      "name": "Decision Tree",
      "provenance": [],
      "collapsed_sections": [],
      "include_colab_link": true
    },
    "kernelspec": {
      "name": "python3",
      "display_name": "Python 3"
    },
    "language_info": {
      "name": "python"
    }
  },
  "cells": [
    {
      "cell_type": "markdown",
      "metadata": {
        "id": "view-in-github",
        "colab_type": "text"
      },
      "source": [
        "<a href=\"https://colab.research.google.com/github/jjuhyeok/Machine_Learning/blob/master/Decision_Tree.ipynb\" target=\"_parent\"><img src=\"https://colab.research.google.com/assets/colab-badge.svg\" alt=\"Open In Colab\"/></a>"
      ]
    },
    {
      "cell_type": "code",
      "execution_count": null,
      "metadata": {
        "id": "NCnlTCUlgQLb"
      },
      "outputs": [],
      "source": [
        "import numpy as np #숫자에 관련된 라이브러리\n",
        "import pandas as pd #데이터 처리를 하는 라이브러리"
      ]
    },
    {
      "cell_type": "code",
      "source": [
        "from sklearn.datasets import fetch_california_housing #사이킷런에 내장된 데이터셋중 california_housing 데이터를 불러오는 코드\n",
        "from sklearn.model_selection import train_test_split #데이터를 자동으로 섞어 train set과 test set으로\n",
        "from sklearn.tree import DecisionTreeRegressor #회귀모델\n",
        "from sklearn.metrics import r2_score #Accuracy\n",
        "from sklearn.metrics import mean_squared_error #MSE"
      ],
      "metadata": {
        "id": "GoR_tS6_g9sQ"
      },
      "execution_count": null,
      "outputs": []
    },
    {
      "cell_type": "code",
      "source": [
        "dataset = fetch_california_housing()"
      ],
      "metadata": {
        "id": "YkBBt3WVg_8_"
      },
      "execution_count": null,
      "outputs": []
    },
    {
      "cell_type": "code",
      "source": [
        "x_data = pd.DataFrame(dataset.data, columns=dataset.feature_names)\n",
        "y_data = pd.DataFrame(dataset.target)"
      ],
      "metadata": {
        "id": "DKZpRhJ_iCKI"
      },
      "execution_count": null,
      "outputs": []
    },
    {
      "cell_type": "code",
      "source": [
        "x_train, x_test, y_train, y_test = train_test_split(x_data, y_data, test_size=0.2, random_state= 22)\n",
        "#train과 test 데이터가 같으면 모두 맞는 결과를 도출하기 때문에 train 데이터와 test 데이터를 나누어준다\n",
        "#train_test_split 함수는 데이터를 자동으로 랜덤하게 섞어줘서 train과 test 데이터로 분리를 시켜준다\n",
        "#test_size는 전체 데이터중 20퍼센트만 test 데이터의 크기로 지정해주는 코드이다\n",
        "#random_state를 설정해주지 않으면 실행시킬때마다 코드의 결과가 새롭게 달라지기 때문에 22라고 고유의 값을 지정해줘서\n",
        "#22로 실행시킬때마다 똑같은 값을 도출하게 정해준다 "
      ],
      "metadata": {
        "id": "KmU9_rezjTv8"
      },
      "execution_count": null,
      "outputs": []
    },
    {
      "cell_type": "code",
      "source": [
        "tree = DecisionTreeRegressor() #결정트리 함수를 tree로 지정"
      ],
      "metadata": {
        "id": "IJ66-fbWj_OX"
      },
      "execution_count": null,
      "outputs": []
    },
    {
      "cell_type": "code",
      "source": [
        "tree.fit(x_train, y_train) #fit : 학습을 시켜주는 함수 estimator가 DecisionTreeRegressor이니 DecisionTreeRegressor 기법으로 학습을 하겠다는 코드"
      ],
      "metadata": {
        "id": "TZH1Daf6kXps",
        "colab": {
          "base_uri": "https://localhost:8080/"
        },
        "outputId": "11b31cc7-ae9d-4f2a-c36b-b2a4ecc91331"
      },
      "execution_count": null,
      "outputs": [
        {
          "output_type": "execute_result",
          "data": {
            "text/plain": [
              "DecisionTreeRegressor()"
            ]
          },
          "metadata": {},
          "execution_count": 44
        }
      ]
    },
    {
      "cell_type": "code",
      "source": [
        "y_predict = tree.predict(x_train) #x_train 데이터에 대한 DecisionTreeRegressor 예측값을 y_predict로\n",
        "score = r2_score(y_train, y_predict) #분산 기반으로 예측 성능을 평가하는 R^2함수 1에 가까울수록 예측 정확도가 높다\n",
        "mse = mean_squared_error(y_train,y_predict) #y_train과 y_predict의 차이를 제곱해 평균하는 MSE 함수"
      ],
      "metadata": {
        "id": "A38LYJB_kY4d"
      },
      "execution_count": null,
      "outputs": []
    },
    {
      "cell_type": "code",
      "source": [
        "y_predict = tree.predict(x_test) #x_test 데이터에 대한 DecisionTreeRegressor 예측값을 y_predict로\n",
        "score = r2_score(y_test, y_predict) #y_test 데이터와 y_precdict 데이터의 정확도 구하기\n",
        "mse = mean_squared_error(y_test,y_predict) #y_test와 y_predict의 차이를 제곱해 평균하는 MSE 함수\n",
        "print(score) \n",
        "print(mse)"
      ],
      "metadata": {
        "id": "B2-GKCfMkZyL",
        "colab": {
          "base_uri": "https://localhost:8080/"
        },
        "outputId": "78b9ae55-db9a-48fa-d57e-7e900dbfdabd"
      },
      "execution_count": null,
      "outputs": [
        {
          "output_type": "stream",
          "name": "stdout",
          "text": [
            "0.6126074119638625\n",
            "0.5033989415299903\n"
          ]
        }
      ]
    }
  ]
}