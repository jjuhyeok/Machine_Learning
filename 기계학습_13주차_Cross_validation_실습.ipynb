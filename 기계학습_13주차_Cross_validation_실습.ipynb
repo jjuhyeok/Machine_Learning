{
  "nbformat": 4,
  "nbformat_minor": 0,
  "metadata": {
    "colab": {
      "name": " 기계학습 13주차 Cross-validation 실습",
      "provenance": [],
      "collapsed_sections": [],
      "include_colab_link": true
    },
    "kernelspec": {
      "name": "python3",
      "display_name": "Python 3"
    },
    "language_info": {
      "name": "python"
    }
  },
  "cells": [
    {
      "cell_type": "markdown",
      "metadata": {
        "id": "view-in-github",
        "colab_type": "text"
      },
      "source": [
        "<a href=\"https://colab.research.google.com/github/jjuhyeok/Machine_Learning/blob/master/%EA%B8%B0%EA%B3%84%ED%95%99%EC%8A%B5_13%EC%A3%BC%EC%B0%A8_Cross_validation_%EC%8B%A4%EC%8A%B5.ipynb\" target=\"_parent\"><img src=\"https://colab.research.google.com/assets/colab-badge.svg\" alt=\"Open In Colab\"/></a>"
      ]
    },
    {
      "cell_type": "code",
      "source": [
        "import numpy as np #수학관련 라이브러리\n",
        "import matplotlib.pyplot as plt #그래프 관련 라이브러리\n",
        "\n",
        "from sklearn.datasets import load_iris\n",
        "from sklearn.model_selection import train_test_split\n",
        "\n",
        "iris_dataset = load_iris()\n",
        "\n",
        "X_train, X_test, y_train, y_test = train_test_split(\n",
        "\tiris_dataset['data'], iris_dataset['target'], test_size=0.2, random_state=22\n",
        "    )#X_train, X_test에는 iris_dataset의 data가 들어가고 y_train, y_test에는 iris_dataset의 target이 들어감"
      ],
      "metadata": {
        "id": "KIF8Zuo_zTWk"
      },
      "execution_count": 1,
      "outputs": []
    },
    {
      "cell_type": "code",
      "source": [
        "print(iris_dataset)"
      ],
      "metadata": {
        "colab": {
          "base_uri": "https://localhost:8080/"
        },
        "id": "SWJlt9ulapJr",
        "outputId": "9263e3ad-6536-4b9f-e3a9-053ab1e85ee0"
      },
      "execution_count": 2,
      "outputs": [
        {
          "output_type": "stream",
          "name": "stdout",
          "text": [
            "{'data': array([[5.1, 3.5, 1.4, 0.2],\n",
            "       [4.9, 3. , 1.4, 0.2],\n",
            "       [4.7, 3.2, 1.3, 0.2],\n",
            "       [4.6, 3.1, 1.5, 0.2],\n",
            "       [5. , 3.6, 1.4, 0.2],\n",
            "       [5.4, 3.9, 1.7, 0.4],\n",
            "       [4.6, 3.4, 1.4, 0.3],\n",
            "       [5. , 3.4, 1.5, 0.2],\n",
            "       [4.4, 2.9, 1.4, 0.2],\n",
            "       [4.9, 3.1, 1.5, 0.1],\n",
            "       [5.4, 3.7, 1.5, 0.2],\n",
            "       [4.8, 3.4, 1.6, 0.2],\n",
            "       [4.8, 3. , 1.4, 0.1],\n",
            "       [4.3, 3. , 1.1, 0.1],\n",
            "       [5.8, 4. , 1.2, 0.2],\n",
            "       [5.7, 4.4, 1.5, 0.4],\n",
            "       [5.4, 3.9, 1.3, 0.4],\n",
            "       [5.1, 3.5, 1.4, 0.3],\n",
            "       [5.7, 3.8, 1.7, 0.3],\n",
            "       [5.1, 3.8, 1.5, 0.3],\n",
            "       [5.4, 3.4, 1.7, 0.2],\n",
            "       [5.1, 3.7, 1.5, 0.4],\n",
            "       [4.6, 3.6, 1. , 0.2],\n",
            "       [5.1, 3.3, 1.7, 0.5],\n",
            "       [4.8, 3.4, 1.9, 0.2],\n",
            "       [5. , 3. , 1.6, 0.2],\n",
            "       [5. , 3.4, 1.6, 0.4],\n",
            "       [5.2, 3.5, 1.5, 0.2],\n",
            "       [5.2, 3.4, 1.4, 0.2],\n",
            "       [4.7, 3.2, 1.6, 0.2],\n",
            "       [4.8, 3.1, 1.6, 0.2],\n",
            "       [5.4, 3.4, 1.5, 0.4],\n",
            "       [5.2, 4.1, 1.5, 0.1],\n",
            "       [5.5, 4.2, 1.4, 0.2],\n",
            "       [4.9, 3.1, 1.5, 0.2],\n",
            "       [5. , 3.2, 1.2, 0.2],\n",
            "       [5.5, 3.5, 1.3, 0.2],\n",
            "       [4.9, 3.6, 1.4, 0.1],\n",
            "       [4.4, 3. , 1.3, 0.2],\n",
            "       [5.1, 3.4, 1.5, 0.2],\n",
            "       [5. , 3.5, 1.3, 0.3],\n",
            "       [4.5, 2.3, 1.3, 0.3],\n",
            "       [4.4, 3.2, 1.3, 0.2],\n",
            "       [5. , 3.5, 1.6, 0.6],\n",
            "       [5.1, 3.8, 1.9, 0.4],\n",
            "       [4.8, 3. , 1.4, 0.3],\n",
            "       [5.1, 3.8, 1.6, 0.2],\n",
            "       [4.6, 3.2, 1.4, 0.2],\n",
            "       [5.3, 3.7, 1.5, 0.2],\n",
            "       [5. , 3.3, 1.4, 0.2],\n",
            "       [7. , 3.2, 4.7, 1.4],\n",
            "       [6.4, 3.2, 4.5, 1.5],\n",
            "       [6.9, 3.1, 4.9, 1.5],\n",
            "       [5.5, 2.3, 4. , 1.3],\n",
            "       [6.5, 2.8, 4.6, 1.5],\n",
            "       [5.7, 2.8, 4.5, 1.3],\n",
            "       [6.3, 3.3, 4.7, 1.6],\n",
            "       [4.9, 2.4, 3.3, 1. ],\n",
            "       [6.6, 2.9, 4.6, 1.3],\n",
            "       [5.2, 2.7, 3.9, 1.4],\n",
            "       [5. , 2. , 3.5, 1. ],\n",
            "       [5.9, 3. , 4.2, 1.5],\n",
            "       [6. , 2.2, 4. , 1. ],\n",
            "       [6.1, 2.9, 4.7, 1.4],\n",
            "       [5.6, 2.9, 3.6, 1.3],\n",
            "       [6.7, 3.1, 4.4, 1.4],\n",
            "       [5.6, 3. , 4.5, 1.5],\n",
            "       [5.8, 2.7, 4.1, 1. ],\n",
            "       [6.2, 2.2, 4.5, 1.5],\n",
            "       [5.6, 2.5, 3.9, 1.1],\n",
            "       [5.9, 3.2, 4.8, 1.8],\n",
            "       [6.1, 2.8, 4. , 1.3],\n",
            "       [6.3, 2.5, 4.9, 1.5],\n",
            "       [6.1, 2.8, 4.7, 1.2],\n",
            "       [6.4, 2.9, 4.3, 1.3],\n",
            "       [6.6, 3. , 4.4, 1.4],\n",
            "       [6.8, 2.8, 4.8, 1.4],\n",
            "       [6.7, 3. , 5. , 1.7],\n",
            "       [6. , 2.9, 4.5, 1.5],\n",
            "       [5.7, 2.6, 3.5, 1. ],\n",
            "       [5.5, 2.4, 3.8, 1.1],\n",
            "       [5.5, 2.4, 3.7, 1. ],\n",
            "       [5.8, 2.7, 3.9, 1.2],\n",
            "       [6. , 2.7, 5.1, 1.6],\n",
            "       [5.4, 3. , 4.5, 1.5],\n",
            "       [6. , 3.4, 4.5, 1.6],\n",
            "       [6.7, 3.1, 4.7, 1.5],\n",
            "       [6.3, 2.3, 4.4, 1.3],\n",
            "       [5.6, 3. , 4.1, 1.3],\n",
            "       [5.5, 2.5, 4. , 1.3],\n",
            "       [5.5, 2.6, 4.4, 1.2],\n",
            "       [6.1, 3. , 4.6, 1.4],\n",
            "       [5.8, 2.6, 4. , 1.2],\n",
            "       [5. , 2.3, 3.3, 1. ],\n",
            "       [5.6, 2.7, 4.2, 1.3],\n",
            "       [5.7, 3. , 4.2, 1.2],\n",
            "       [5.7, 2.9, 4.2, 1.3],\n",
            "       [6.2, 2.9, 4.3, 1.3],\n",
            "       [5.1, 2.5, 3. , 1.1],\n",
            "       [5.7, 2.8, 4.1, 1.3],\n",
            "       [6.3, 3.3, 6. , 2.5],\n",
            "       [5.8, 2.7, 5.1, 1.9],\n",
            "       [7.1, 3. , 5.9, 2.1],\n",
            "       [6.3, 2.9, 5.6, 1.8],\n",
            "       [6.5, 3. , 5.8, 2.2],\n",
            "       [7.6, 3. , 6.6, 2.1],\n",
            "       [4.9, 2.5, 4.5, 1.7],\n",
            "       [7.3, 2.9, 6.3, 1.8],\n",
            "       [6.7, 2.5, 5.8, 1.8],\n",
            "       [7.2, 3.6, 6.1, 2.5],\n",
            "       [6.5, 3.2, 5.1, 2. ],\n",
            "       [6.4, 2.7, 5.3, 1.9],\n",
            "       [6.8, 3. , 5.5, 2.1],\n",
            "       [5.7, 2.5, 5. , 2. ],\n",
            "       [5.8, 2.8, 5.1, 2.4],\n",
            "       [6.4, 3.2, 5.3, 2.3],\n",
            "       [6.5, 3. , 5.5, 1.8],\n",
            "       [7.7, 3.8, 6.7, 2.2],\n",
            "       [7.7, 2.6, 6.9, 2.3],\n",
            "       [6. , 2.2, 5. , 1.5],\n",
            "       [6.9, 3.2, 5.7, 2.3],\n",
            "       [5.6, 2.8, 4.9, 2. ],\n",
            "       [7.7, 2.8, 6.7, 2. ],\n",
            "       [6.3, 2.7, 4.9, 1.8],\n",
            "       [6.7, 3.3, 5.7, 2.1],\n",
            "       [7.2, 3.2, 6. , 1.8],\n",
            "       [6.2, 2.8, 4.8, 1.8],\n",
            "       [6.1, 3. , 4.9, 1.8],\n",
            "       [6.4, 2.8, 5.6, 2.1],\n",
            "       [7.2, 3. , 5.8, 1.6],\n",
            "       [7.4, 2.8, 6.1, 1.9],\n",
            "       [7.9, 3.8, 6.4, 2. ],\n",
            "       [6.4, 2.8, 5.6, 2.2],\n",
            "       [6.3, 2.8, 5.1, 1.5],\n",
            "       [6.1, 2.6, 5.6, 1.4],\n",
            "       [7.7, 3. , 6.1, 2.3],\n",
            "       [6.3, 3.4, 5.6, 2.4],\n",
            "       [6.4, 3.1, 5.5, 1.8],\n",
            "       [6. , 3. , 4.8, 1.8],\n",
            "       [6.9, 3.1, 5.4, 2.1],\n",
            "       [6.7, 3.1, 5.6, 2.4],\n",
            "       [6.9, 3.1, 5.1, 2.3],\n",
            "       [5.8, 2.7, 5.1, 1.9],\n",
            "       [6.8, 3.2, 5.9, 2.3],\n",
            "       [6.7, 3.3, 5.7, 2.5],\n",
            "       [6.7, 3. , 5.2, 2.3],\n",
            "       [6.3, 2.5, 5. , 1.9],\n",
            "       [6.5, 3. , 5.2, 2. ],\n",
            "       [6.2, 3.4, 5.4, 2.3],\n",
            "       [5.9, 3. , 5.1, 1.8]]), 'target': array([0, 0, 0, 0, 0, 0, 0, 0, 0, 0, 0, 0, 0, 0, 0, 0, 0, 0, 0, 0, 0, 0,\n",
            "       0, 0, 0, 0, 0, 0, 0, 0, 0, 0, 0, 0, 0, 0, 0, 0, 0, 0, 0, 0, 0, 0,\n",
            "       0, 0, 0, 0, 0, 0, 1, 1, 1, 1, 1, 1, 1, 1, 1, 1, 1, 1, 1, 1, 1, 1,\n",
            "       1, 1, 1, 1, 1, 1, 1, 1, 1, 1, 1, 1, 1, 1, 1, 1, 1, 1, 1, 1, 1, 1,\n",
            "       1, 1, 1, 1, 1, 1, 1, 1, 1, 1, 1, 1, 2, 2, 2, 2, 2, 2, 2, 2, 2, 2,\n",
            "       2, 2, 2, 2, 2, 2, 2, 2, 2, 2, 2, 2, 2, 2, 2, 2, 2, 2, 2, 2, 2, 2,\n",
            "       2, 2, 2, 2, 2, 2, 2, 2, 2, 2, 2, 2, 2, 2, 2, 2, 2, 2]), 'frame': None, 'target_names': array(['setosa', 'versicolor', 'virginica'], dtype='<U10'), 'DESCR': '.. _iris_dataset:\\n\\nIris plants dataset\\n--------------------\\n\\n**Data Set Characteristics:**\\n\\n    :Number of Instances: 150 (50 in each of three classes)\\n    :Number of Attributes: 4 numeric, predictive attributes and the class\\n    :Attribute Information:\\n        - sepal length in cm\\n        - sepal width in cm\\n        - petal length in cm\\n        - petal width in cm\\n        - class:\\n                - Iris-Setosa\\n                - Iris-Versicolour\\n                - Iris-Virginica\\n                \\n    :Summary Statistics:\\n\\n    ============== ==== ==== ======= ===== ====================\\n                    Min  Max   Mean    SD   Class Correlation\\n    ============== ==== ==== ======= ===== ====================\\n    sepal length:   4.3  7.9   5.84   0.83    0.7826\\n    sepal width:    2.0  4.4   3.05   0.43   -0.4194\\n    petal length:   1.0  6.9   3.76   1.76    0.9490  (high!)\\n    petal width:    0.1  2.5   1.20   0.76    0.9565  (high!)\\n    ============== ==== ==== ======= ===== ====================\\n\\n    :Missing Attribute Values: None\\n    :Class Distribution: 33.3% for each of 3 classes.\\n    :Creator: R.A. Fisher\\n    :Donor: Michael Marshall (MARSHALL%PLU@io.arc.nasa.gov)\\n    :Date: July, 1988\\n\\nThe famous Iris database, first used by Sir R.A. Fisher. The dataset is taken\\nfrom Fisher\\'s paper. Note that it\\'s the same as in R, but not as in the UCI\\nMachine Learning Repository, which has two wrong data points.\\n\\nThis is perhaps the best known database to be found in the\\npattern recognition literature.  Fisher\\'s paper is a classic in the field and\\nis referenced frequently to this day.  (See Duda & Hart, for example.)  The\\ndata set contains 3 classes of 50 instances each, where each class refers to a\\ntype of iris plant.  One class is linearly separable from the other 2; the\\nlatter are NOT linearly separable from each other.\\n\\n.. topic:: References\\n\\n   - Fisher, R.A. \"The use of multiple measurements in taxonomic problems\"\\n     Annual Eugenics, 7, Part II, 179-188 (1936); also in \"Contributions to\\n     Mathematical Statistics\" (John Wiley, NY, 1950).\\n   - Duda, R.O., & Hart, P.E. (1973) Pattern Classification and Scene Analysis.\\n     (Q327.D83) John Wiley & Sons.  ISBN 0-471-22361-1.  See page 218.\\n   - Dasarathy, B.V. (1980) \"Nosing Around the Neighborhood: A New System\\n     Structure and Classification Rule for Recognition in Partially Exposed\\n     Environments\".  IEEE Transactions on Pattern Analysis and Machine\\n     Intelligence, Vol. PAMI-2, No. 1, 67-71.\\n   - Gates, G.W. (1972) \"The Reduced Nearest Neighbor Rule\".  IEEE Transactions\\n     on Information Theory, May 1972, 431-433.\\n   - See also: 1988 MLC Proceedings, 54-64.  Cheeseman et al\"s AUTOCLASS II\\n     conceptual clustering system finds 3 classes in the data.\\n   - Many, many more ...', 'feature_names': ['sepal length (cm)', 'sepal width (cm)', 'petal length (cm)', 'petal width (cm)'], 'filename': 'iris.csv', 'data_module': 'sklearn.datasets.data'}\n"
          ]
        }
      ]
    },
    {
      "cell_type": "code",
      "source": [
        "from sklearn.linear_model import LogisticRegression #분류를 위해\n",
        "from sklearn.preprocessing import StandardScaler\n",
        "from sklearn.pipeline import Pipeline\n",
        "\n",
        "# pipeline 정의\n",
        "pipe_lr = Pipeline(steps=[('standardscaler',StandardScaler()),\n",
        "                          ('logisticregression', LogisticRegression(random_state=22))])\n",
        "#standardscaler를 통해 표준화를 시켜준다\n",
        "#calss는 StandardScaler() 이다 standardscaler는 이름\n",
        "\n",
        "print(pipe_lr)"
      ],
      "metadata": {
        "id": "unb73pK_055-",
        "colab": {
          "base_uri": "https://localhost:8080/"
        },
        "outputId": "98ae9aba-d5ec-4f4a-a2c1-d2bc14ca7d78"
      },
      "execution_count": 4,
      "outputs": [
        {
          "output_type": "stream",
          "name": "stdout",
          "text": [
            "Pipeline(steps=[('standardscaler', StandardScaler()),\n",
            "                ('logisticregression', LogisticRegression(random_state=22))])\n"
          ]
        }
      ]
    },
    {
      "cell_type": "code",
      "source": [
        "pipe_lr.fit(X_train, y_train)\n",
        "\n",
        "# Accuracy score\n",
        "print(f'Training accuracy: {pipe_lr.score(X_train, y_train)}')\n",
        "print(f'Test accuracy: {pipe_lr.score(X_test, y_test)}')\n",
        "#초모수는 아직까지 default값"
      ],
      "metadata": {
        "id": "39bakL2WHySu",
        "colab": {
          "base_uri": "https://localhost:8080/"
        },
        "outputId": "5484b4eb-4c6f-4df7-b48c-833130cd55fe"
      },
      "execution_count": 5,
      "outputs": [
        {
          "output_type": "stream",
          "name": "stdout",
          "text": [
            "Training accuracy: 0.95\n",
            "Test accuracy: 0.9666666666666667\n"
          ]
        }
      ]
    },
    {
      "cell_type": "code",
      "source": [
        "### Plot learning curve\n",
        "from sklearn.model_selection import learning_curve\n",
        "\n",
        "train_sizes, train_scores, test_scores =\\ # \\은 다음줄로 넘긴다는 의미\n",
        "learning_curve(estimator=pipe_lr, X=X_train, y=y_train, train_sizes=np.linspace(0.01, 1, 10), cv=10)\n",
        "#위에 두 줄 한줄로 합치면 이렇게 됨\n",
        "#train_sizes, train_scores, test_scores = learning_curve(estimator=pipe_lr, X=X_train, y=y_train, train_sizes=np.linspace(0.01, 1, 10), cv=10)\n",
        "train_mean = np.mean(train_scores, axis=1)\n",
        "test_mean = np.mean(test_scores, axis=1)\n",
        "\n",
        "plt.plot(train_sizes, train_mean, color='blue', marker='o', markersize=5,\n",
        "         label='training accuracy')\n",
        "\n",
        "plt.plot(train_sizes, test_mean, color='green', linestyle='--', marker='s',\n",
        "         markersize=5, label='validation accuracy')\n",
        "\n",
        "plt.grid()\n",
        "plt.xlabel('Number of training samples')\n",
        "plt.ylabel('Accuracy')\n",
        "plt.legend(loc='lower right')\n",
        "plt.ylim([0.8, 1.03])\n",
        "plt.show()"
      ],
      "metadata": {
        "id": "B-J03_Y2BSDe",
        "colab": {
          "base_uri": "https://localhost:8080/",
          "height": 279
        },
        "outputId": "e48041d3-b829-447f-812c-a7cb3162139b"
      },
      "execution_count": 36,
      "outputs": [
        {
          "output_type": "display_data",
          "data": {
            "text/plain": [
              "<Figure size 432x288 with 1 Axes>"
            ],
            "image/png": "[encoded data removed]"
          },
          "metadata": {
            "needs_background": "light"
          }
        }
      ]
    },
    {
      "cell_type": "code",
      "source": [
        "#### K-fold cross-validation using pipeline ###\n",
        "from sklearn.model_selection import cross_val_score\n",
        "scores = cross_val_score(estimator=pipe_lr, X=X_train, y=y_train, cv=10)  # Accuracy scores\n",
        "\n",
        "#cross_val_score 쓰는 법\n",
        "#첫번째는 모델, 두번째는 feature, 세번째는 target,cv는 분할 설정값, scoring은 평가방법\n",
        "#score = cross_val_score(dt, iris.data, iris.target, cv=kfold, scoring=\"accuracy\")\n",
        "\n",
        "print('CV accuracy scores: %s' % scores)\n",
        "print('CV accuracy: %.3f +/- %.3f' % (np.mean(scores), np.std(scores)))"
      ],
      "metadata": {
        "id": "05fmwtVTHmSp",
        "colab": {
          "base_uri": "https://localhost:8080/"
        },
        "outputId": "f7fadb44-34ed-4990-d4f1-31b063ca61fe"
      },
      "execution_count": 11,
      "outputs": [
        {
          "output_type": "stream",
          "name": "stdout",
          "text": [
            "CV accuracy scores: [1.         0.91666667 1.         1.         0.91666667 1.\n",
            " 0.91666667 0.91666667 0.91666667 1.        ]\n",
            "CV accuracy: 0.958 +/- 0.042\n"
          ]
        }
      ]
    },
    {
      "cell_type": "code",
      "source": [
        "### Grid search에 의한 초모수 결정 ###\n",
        "from sklearn.model_selection import GridSearchCV\n",
        "param_range = [0.0001, 0.001, 0.01, 0.1, 1.0, 10.0, 100.0, 1000.0]\n",
        "param_grid = [{'logisticregression__C': param_range}] #튜닝을 위해 파라미터, 사용될 파라미터를 dictionary 형태로 만들어서 넣는다\n",
        "gs = GridSearchCV(estimator=pipe_lr, param_grid=param_grid, scoring='accuracy', cv=10) #그리드를 사용한 복수 하이퍼 파라미터 최적화\n",
        "#estimator : classifier, regressor, pipeline 등 가능\n",
        "#scoring : 예측 성능을 측정할 평가 방법을 넣는다. 보통 accuracy 로 지정하여서 정확도로 성능 평가를 한다.\n",
        "#cv : 교차 검증에서 몇개로 분할되는지 지정한다. 파이프 개수라고 생각하면 될듯\n",
        "#refit : True가 디폴트로 True로 하면 최적의 하이퍼 파라미터를 찾아서 재학습 시킨다.\n",
        "#param_grid :  모든 파리미터 조합에 대한 성능 결과\n",
        "#scoring 은 #  Classification일때  'accuracy','f1' #  Regression 일때 'neg_mean_squared_error','r2'...\n",
        "\n",
        "\n",
        "#GridSearchCV 클래스는 validation_curve 함수와 달리 모형 래퍼(Wrapper) 성격의 클래스이다. \n",
        "#클래스 객체에 fit 메서드를 호출하면 grid search를 사용하여 자동으로 복수개의 내부 모형을 생성하고 \n",
        "#이를 모두 실행시켜서 최적 파라미터를 찾아준다 \n",
        "#즉, 1. 최적의 파라미터를 찾아주고, 2. 교차검증도 해준다!\n",
        "\n",
        "gs = gs.fit(X_train, y_train)\n",
        "print(gs.best_score_) #cross validation을 통해 구한 제일 높은 스코어\n",
        "print(gs.best_params_)# grid_range 중에서 가장 좋은거"
      ],
      "metadata": {
        "id": "RR1N7rviB5sg",
        "colab": {
          "base_uri": "https://localhost:8080/"
        },
        "outputId": "7c7ca406-9cd7-4878-ac14-7b2e35fa0e16"
      },
      "execution_count": 18,
      "outputs": [
        {
          "output_type": "stream",
          "name": "stdout",
          "text": [
            "0.9666666666666666\n",
            "{'logisticregression__C': 10.0}\n"
          ]
        }
      ]
    },
    {
      "cell_type": "code",
      "source": [
        "bestlr = gs.best_estimator_\n",
        "#best_estimator_ : 최고 점수를 낸 파라미터를 가진 모형\n",
        "bestlr.fit(X_train, y_train)\n",
        "print(bestlr.score(X_train,y_train))\n",
        "#.score은 싸이킷런 함수\n",
        "bestlr.score(X_test, y_test)"
      ],
      "metadata": {
        "id": "AY099IW6ccNl",
        "colab": {
          "base_uri": "https://localhost:8080/"
        },
        "outputId": "392021b1-8dcd-4843-95c7-c19bf238d5ff"
      },
      "execution_count": 37,
      "outputs": [
        {
          "output_type": "stream",
          "name": "stdout",
          "text": [
            "0.975\n"
          ]
        },
        {
          "output_type": "execute_result",
          "data": {
            "text/plain": [
              "1.0"
            ]
          },
          "metadata": {},
          "execution_count": 37
        }
      ]
    },
    {
      "cell_type": "code",
      "source": [
        "from sklearn.pipeline import make_pipeline\n",
        "from sklearn.model_selection import cross_validate\n",
        "param_range = [0.0001, 0.001, 0.01, 0.1, 1.0, 10.0, 100.0, 1000.0]\n",
        "total_error = np.zeros(len(param_range)) #zeros : 모든 값이 0인 배열 생성\n",
        "val_error = np.zeros(len(param_range))\n",
        "pipe_lr = make_pipeline(StandardScaler(), LogisticRegression(random_state=22))\n",
        "for idx in range(len(param_range)):\n",
        "  pipe_lr.set_params(logisticregression__C=param_range[idx]) #Logistic이 아닌 logistic임 왜냐면 내가 이름을 위에서 logistic으로 설정\n",
        "  result = cross_validate(estimator=pipe_lr, X=X_train, y=y_train, cv=10,\n",
        "                          return_train_score=True)\n",
        "  total_error[idx] = np.mean(result['train_score'])\n",
        "  val_error[idx] = np.mean(result['test_score'])\n",
        "\n",
        "plt.semilogx(param_range, total_error, color='blue', label='training accuracy')\n",
        "plt.semilogx(param_range, val_error, color='red', label='validation accuracy')\n",
        "\n",
        "plt.grid()\n",
        "plt.xlabel('C')\n",
        "plt.ylabel('Accuracy')\n",
        "plt.legend(loc='lower right')\n",
        "plt.show()"
      ],
      "metadata": {
        "id": "L1oR8ZH4DFfT",
        "colab": {
          "base_uri": "https://localhost:8080/",
          "height": 283
        },
        "outputId": "6c29e11c-1e0e-4e5f-d45c-da116a61e0fb"
      },
      "execution_count": 20,
      "outputs": [
        {
          "output_type": "display_data",
          "data": {
            "text/plain": [
              "<Figure size 432x288 with 1 Axes>"
            ],
            "image/png": "[encoded data removed]"
          },
          "metadata": {
            "needs_background": "light"
          }
        }
      ]
    },
    {
      "cell_type": "code",
      "source": [
        "#Nested cross-validation\n",
        "from sklearn.svm import SVC\n",
        "from sklearn.model_selection import KFold\n",
        "\n",
        "X_iris = iris_dataset['data']\n",
        "y_iris = iris_dataset['target']\n",
        "\n",
        "# Number of random trials \n",
        "# 무작위 시도 횟수\n",
        "NUM_TRIALS = 30\n",
        "\n",
        "# Set up possible values of parameters to optimize over\n",
        "# 최적화 할 매개 변수의 가능한 값을 설정\n",
        "p_grid = {\"C\": [1, 10, 100], \"gamma\": [0.01, 0.1]}\n",
        "\n",
        "# We will use a Support Vector Classifier with \"rbf\" kernel\n",
        "# \"rbf\"커널과 함께 Support Vector Classifier를 사용할 것\n",
        "\n",
        "svm = SVC(kernel=\"rbf\")\n",
        "#커널을 쓰는 이유는 직접적인 차원확장을 하지 않고 차원확장을 한 효과를 누리기 위해\n",
        "\n",
        "# Arrays to store scores\n",
        "non_nested_scores = np.zeros(NUM_TRIALS)\n",
        "nested_scores = np.zeros(NUM_TRIALS)\n",
        "\n",
        "# Loop for each trial\n",
        "for i in range(NUM_TRIALS):\n",
        "\n",
        "    # Choose cross-validation techniques for the inner and outer loops,\n",
        "    # 내부 및 외부 루프에 대한 교차 검증 기술을 선택\n",
        "    # independently of the dataset.\n",
        "    # 데이터 세트와 무관합니다.\n",
        "    # E.g \"GroupKFold\", \"LeaveOneOut\", \"LeaveOneGroupOut\", etc.\n",
        "    # 예 : \"GroupKFold\", \"LeaveOneOut\", \"LeaveOneGroupOut\"등\n",
        "\n",
        "    inner_cv = KFold(n_splits=4, shuffle=True, random_state=i)\n",
        "    outer_cv = KFold(n_splits=4, shuffle=True, random_state=i)\n",
        "    # n_splits 는 데이터 분할 수 입니다. 전체 데이터 수를 넘을 수 없습니다.\n",
        "    # shuffle은  매번 데이터를 분할하기전 섞을지 말지 여부를 선택합니다.  \n",
        "\n",
        "    #교차검증을 해도 모델의 성능이 직접적으로 향상되는 것이 아님\n",
        "    #하지만 하이퍼 파라미터 튜닝을 통해 최적의 성능을 발휘하는 파라미터를 찾을 수 있다\n",
        "\n",
        "    # Non_nested parameter search and scoring\n",
        "    clf = GridSearchCV(estimator=svm, param_grid=p_grid, cv=outer_cv) \n",
        "    #non_nested parameter와 관련된 clf는 왜 cv를 outer_cv로 설정하지?\n",
        "    #inner를 아직 안해줘서 Non인건가?\n",
        "\n",
        "    clf.fit(X_iris, y_iris)\n",
        "    non_nested_scores[i] = clf.best_score_\n",
        "\n",
        "    #Non_nested가 k-fold cross validation인가?\n",
        "\n",
        "    # Nested CV with parameter optimization\n",
        "    clf = GridSearchCV(estimator=svm, param_grid=p_grid, cv=inner_cv) #inner 에서는 test셋을 제외\n",
        "    #nested parameter와 관련된 clf는 왜 cv를 outer_cv로 설정하지?\n",
        "    nested_score = cross_val_score(clf, X=X_iris, y=y_iris, cv=outer_cv)\n",
        "    nested_scores[i] = nested_score.mean()\n",
        "\n",
        "print(f'Nested CV accuracy: {nested_scores.mean()}')\n",
        "print(f'Non-Nested CV accuracy: {non_nested_scores.mean()}')"
      ],
      "metadata": {
        "id": "T0p8ZCgSiAF0",
        "colab": {
          "base_uri": "https://localhost:8080/"
        },
        "outputId": "ef3341df-8683-409a-980d-ded6363a4c50"
      },
      "execution_count": 21,
      "outputs": [
        {
          "output_type": "stream",
          "name": "stdout",
          "text": [
            "Nested CV accuracy: 0.9660384068278804\n",
            "Non-Nested CV accuracy: 0.9736190137505927\n"
          ]
        }
      ]
    },
    {
      "cell_type": "code",
      "source": [
        "# Plot scores on each trial for nested and non-nested CV\n",
        "plt.figure()\n",
        "(non_nested_scores_line,) = plt.plot(non_nested_scores, color=\"r\")\n",
        "(nested_line,) = plt.plot(nested_scores, color=\"b\")\n",
        "plt.ylabel(\"score\", fontsize=\"14\")\n",
        "plt.legend(\n",
        "    [non_nested_scores_line, nested_line],\n",
        "    [\"Non-Nested CV\", \"Nested CV\"],\n",
        "    bbox_to_anchor=(0, 0.4, 0.5, 0),\n",
        ")\n",
        "plt.title(\n",
        "    \"Non-Nested and Nested Cross Validation on Iris Dataset\",\n",
        "    x=0.5,\n",
        "    y=1.1,\n",
        "    fontsize=\"15\",\n",
        ")\n",
        "\n",
        "plt.show()"
      ],
      "metadata": {
        "id": "-zzs9jOfit3w",
        "colab": {
          "base_uri": "https://localhost:8080/",
          "height": 305
        },
        "outputId": "2220bab8-48b2-4d49-86f1-ef707e5c1bf1"
      },
      "execution_count": 22,
      "outputs": [
        {
          "output_type": "display_data",
          "data": {
            "text/plain": [
              "<Figure size 432x288 with 1 Axes>"
            ],
            "image/png": "[encoded data removed]"
          },
          "metadata": {
            "needs_background": "light"
          }
        }
      ]
    }
  ]
}