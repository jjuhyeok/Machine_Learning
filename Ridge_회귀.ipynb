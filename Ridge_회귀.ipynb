{
  "nbformat": 4,
  "nbformat_minor": 0,
  "metadata": {
    "colab": {
      "name": "Ridge 회귀",
      "provenance": [],
      "collapsed_sections": [],
      "include_colab_link": true
    },
    "kernelspec": {
      "name": "python3",
      "display_name": "Python 3"
    },
    "language_info": {
      "name": "python"
    }
  },
  "cells": [
    {
      "cell_type": "markdown",
      "metadata": {
        "id": "view-in-github",
        "colab_type": "text"
      },
      "source": [
        "<a href=\"https://colab.research.google.com/github/jjuhyeok/Machine_Learning/blob/master/Ridge_%ED%9A%8C%EA%B7%80.ipynb\" target=\"_parent\"><img src=\"https://colab.research.google.com/assets/colab-badge.svg\" alt=\"Open In Colab\"/></a>"
      ]
    },
    {
      "cell_type": "code",
      "execution_count": null,
      "metadata": {
        "id": "NCnlTCUlgQLb"
      },
      "outputs": [],
      "source": [
        "import numpy as np #숫자에 관련된 라이브러리\n",
        "import pandas as pd #데이터 처리를 하는 라이브러리"
      ]
    },
    {
      "cell_type": "code",
      "source": [
        "from sklearn.datasets import fetch_california_housing #사이킷런에 내장된 데이터셋중 california_housing 데이터를 불러오는 코드\n",
        "from sklearn.model_selection import train_test_split #데이터를 자동으로 섞어 train set과 test set으로\n",
        "from sklearn.linear_model import Ridge #회귀모델\n",
        "from sklearn.metrics import r2_score #Accuracy\n",
        "from sklearn.metrics import mean_squared_error #MSE"
      ],
      "metadata": {
        "id": "GoR_tS6_g9sQ"
      },
      "execution_count": null,
      "outputs": []
    },
    {
      "cell_type": "code",
      "source": [
        "dataset = fetch_california_housing()"
      ],
      "metadata": {
        "id": "YkBBt3WVg_8_"
      },
      "execution_count": null,
      "outputs": []
    },
    {
      "cell_type": "code",
      "source": [
        "x_data = pd.DataFrame(dataset.data, columns=dataset.feature_names)\n",
        "y_data = pd.DataFrame(dataset.target)"
      ],
      "metadata": {
        "id": "fhSBqGZ9iplE"
      },
      "execution_count": null,
      "outputs": []
    },
    {
      "cell_type": "code",
      "source": [
        "x_train, x_test, y_train, y_test = train_test_split(x_data, y_data, test_size=0.2, random_state= 22) \n",
        "#train과 test 데이터가 같으면 모두 맞는 결과를 도출하기 때문에 train 데이터와 test 데이터를 나누어준다\n",
        "#train_test_split 함수는 데이터를 자동으로 랜덤하게 섞어줘서 train과 test 데이터로 분리를 시켜준다\n",
        "#test_size는 전체 데이터중 20퍼센트만 test 데이터의 크기로 지정해주는 코드이다\n",
        "#random_state를 설정해주지 않으면 실행시킬때마다 코드의 결과가 새롭게 달라지기 때문에 22라고 고유의 값을 지정해줘서\n",
        "#22로 실행시킬때마다 똑같은 값을 도출하게 정해준다"
      ],
      "metadata": {
        "id": "KmU9_rezjTv8"
      },
      "execution_count": null,
      "outputs": []
    },
    {
      "cell_type": "code",
      "source": [
        "ridge = Ridge()  #ridge 함수를 Ridge로 지정\n",
        "#각 계수의 제곱을 더한 값'을 식에 포함하여 계수의 크기도 함께 최소화하도록 만들었다는 차이가 있다."
      ],
      "metadata": {
        "id": "IJ66-fbWj_OX"
      },
      "execution_count": null,
      "outputs": []
    },
    {
      "cell_type": "code",
      "source": [
        "ridge.fit(x_train, y_train) #fit : 학습을 시켜주는 함수 ridge 기법으로 학습을 하겠다는 코드"
      ],
      "metadata": {
        "id": "TZH1Daf6kXps",
        "colab": {
          "base_uri": "https://localhost:8080/"
        },
        "outputId": "9e638ea2-0d67-4933-9c7b-caec6ee26080"
      },
      "execution_count": null,
      "outputs": [
        {
          "output_type": "execute_result",
          "data": {
            "text/plain": [
              "Ridge()"
            ]
          },
          "metadata": {},
          "execution_count": 13
        }
      ]
    },
    {
      "cell_type": "code",
      "source": [
        "y_predict = ridge.predict(x_train) #x_test 데이터에 대한 Ridge 예측값을 y_predict로\n",
        "score = r2_score(y_train, y_predict) #분산 기반으로 예측 성능을 평가하는 R^2함수 1에 가까울수록 예측 정확도가 높다\n",
        "mse = mean_squared_error(y_train,y_predict) #y_train과 y_predict의 차이를 제곱해 평균하는 MSE 함수\n",
        "print(score) \n",
        "print(mse)"
      ],
      "metadata": {
        "id": "A38LYJB_kY4d",
        "colab": {
          "base_uri": "https://localhost:8080/"
        },
        "outputId": "d93998e9-a246-49c8-a316-2ee6b8e1ccbf"
      },
      "execution_count": null,
      "outputs": [
        {
          "output_type": "stream",
          "name": "stdout",
          "text": [
            "0.60536977780449\n",
            "0.528633916571731\n"
          ]
        }
      ]
    },
    {
      "cell_type": "code",
      "source": [
        "y_predict = ridge.predict(x_test) #x_test 데이터에 대한 Ridge 예측값을 y_predict로\n",
        "score = r2_score(y_test, y_predict) #y_test 데이터와 y_precdict 데이터의 정확도 구하기\n",
        "mse = mean_squared_error(y_test,y_predict) #y_test와 y_predict의 차이를 제곱해 평균하는 MSE 함수\n",
        "print(score) #정확도 출력\n",
        "print(mse) #MSE 출력"
      ],
      "metadata": {
        "id": "B2-GKCfMkZyL",
        "colab": {
          "base_uri": "https://localhost:8080/"
        },
        "outputId": "96d7aa73-3e61-4458-a4e9-05fab310c262"
      },
      "execution_count": null,
      "outputs": [
        {
          "output_type": "stream",
          "name": "stdout",
          "text": [
            "0.6094312801531339\n",
            "0.5075261794820273\n"
          ]
        }
      ]
    }
  ]
}