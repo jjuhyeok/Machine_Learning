{
  "nbformat": 4,
  "nbformat_minor": 0,
  "metadata": {
    "colab": {
      "name": "KNN Regression 회귀",
      "provenance": [],
      "collapsed_sections": [],
      "include_colab_link": true
    },
    "kernelspec": {
      "name": "python3",
      "display_name": "Python 3"
    },
    "language_info": {
      "name": "python"
    }
  },
  "cells": [
    {
      "cell_type": "markdown",
      "metadata": {
        "id": "view-in-github",
        "colab_type": "text"
      },
      "source": [
        "<a href=\"https://colab.research.google.com/github/jjuhyeok/Machine_Learning/blob/master/KNN_Regression_%ED%9A%8C%EA%B7%80.ipynb\" target=\"_parent\"><img src=\"https://colab.research.google.com/assets/colab-badge.svg\" alt=\"Open In Colab\"/></a>"
      ]
    },
    {
      "cell_type": "code",
      "execution_count": null,
      "metadata": {
        "id": "NCnlTCUlgQLb"
      },
      "outputs": [],
      "source": [
        "import numpy as np #숫자에 관련된 라이브러리\n",
        "import pandas as pd #데이터 처리를 하는 라이브러리"
      ]
    },
    {
      "cell_type": "code",
      "source": [
        "from sklearn.datasets import fetch_california_housing #사이킷런에 내장된 데이터셋중 california_housing 데이터를 불러오는 코드\n",
        "from sklearn.model_selection import train_test_split #데이터를 자동으로 섞어 train set과 test set으로\n",
        "from sklearn.neighbors import KNeighborsRegressor #회귀모델\n",
        "from sklearn.metrics import r2_score #Accuracy\n",
        "from sklearn.metrics import mean_squared_error #MSE"
      ],
      "metadata": {
        "id": "GoR_tS6_g9sQ"
      },
      "execution_count": null,
      "outputs": []
    },
    {
      "cell_type": "code",
      "source": [
        "dataset = fetch_california_housing()"
      ],
      "metadata": {
        "id": "YkBBt3WVg_8_"
      },
      "execution_count": null,
      "outputs": []
    },
    {
      "cell_type": "code",
      "source": [
        "x_data = pd.DataFrame(dataset.data, columns=dataset.feature_names)\n",
        "y_data = pd.DataFrame(dataset.target)"
      ],
      "metadata": {
        "id": "fhSBqGZ9iplE"
      },
      "execution_count": null,
      "outputs": []
    },
    {
      "cell_type": "code",
      "source": [
        "x_train, x_test, y_train, y_test = train_test_split(x_data, y_data, test_size=0.2, random_state= 22) \n",
        "#train과 test 데이터가 같으면 모두 맞는 결과를 도출하기 때문에 train 데이터와 test 데이터를 나누어준다\n",
        "#train_test_split 함수는 데이터를 자동으로 랜덤하게 섞어줘서 train과 test 데이터로 분리를 시켜준다\n",
        "#test_size는 전체 데이터중 20퍼센트만 test 데이터의 크기로 지정해주는 코드이다\n",
        "#random_state를 설정해주지 않으면 실행시킬때마다 코드의 결과가 새롭게 달라지기 때문에 22라고 고유의 값을 지정해줘서\n",
        "#22로 실행시킬때마다 똑같은 값을 도출하게 정해준다"
      ],
      "metadata": {
        "id": "KmU9_rezjTv8"
      },
      "execution_count": null,
      "outputs": []
    },
    {
      "cell_type": "code",
      "source": [
        "KNN = KNeighborsRegressor(n_neighbors=5, weights='uniform', algorithm='auto', \n",
        "leaf_size=30, p=2, metric='minkowski') #KNeighborsRegressor 함수를 KNN으로 지정\n",
        "#n_neighbors의 default 값은 5이다\n",
        "\n",
        "#weight는 가중치로 \n",
        "#uniform' : 각각의 이웃이 모두 동일한 가중치를 갖는다. \n",
        "#distance' : 거리가 가까울수록 더 높은 가중치를 가져 더 큰 영향을 미치게 된다.\n",
        "#callable : 사용자가 직접 정의한 함수를 사용할 수도 있다. 거리가 저장된 배열을 입력으로 받고 가중치가 저장된 배열을 반환하는 함수가 되어야 한다. \n",
        "# 등등이 있다\n",
        "\n",
        "#algorithm\n",
        "#가장 가까운 이웃들을 계산하는 데 사용하는 알고리즘을 결정한다. default는 auto이다. \n",
        "#'auto' : 입력된 훈련 데이터에 기반하여 가장 적절한 알고리즘을 사용한다\n",
        "#'ball_tree' : Ball-Tree 구조를 사용한다\n",
        "#'kd_tree' : KD-Tree 구조를 사용한다\n",
        "#'brute' : Brute-Force 탐색을 사용한다\n",
        "\n",
        "#leaf_size : int\n",
        "#Ball-Tree나 KD-Tree의 leaf size를 결정한다. default값은 30이다.\n",
        "#이는 트리를 저장하기 위한 메모리뿐만 아니라, 트리의 구성과 쿼리 처리의 속도에도 영향을 미친다. \n",
        "\n",
        "#p : int\n",
        "#민코프스키 미터법(Minkowski)의 차수를 결정한다. \n",
        "#예를 들어 p = 1이면 맨해튼 거리(Manhatten distance), p = 2이면 유클리드 거리(Euclidean distance)이다. "
      ],
      "metadata": {
        "id": "IJ66-fbWj_OX"
      },
      "execution_count": null,
      "outputs": []
    },
    {
      "cell_type": "code",
      "source": [
        "KNN.fit(x_train, y_train) #fit : 학습을 시켜주는 함수 estimator가 KNeighborsRegressor이기 때문에 KNeighborsRegressor 기법으로 학습을 하겠다는 코드"
      ],
      "metadata": {
        "id": "TZH1Daf6kXps",
        "colab": {
          "base_uri": "https://localhost:8080/"
        },
        "outputId": "ab49ec65-1dcb-4e4a-eaf3-909321bd61ea"
      },
      "execution_count": null,
      "outputs": [
        {
          "output_type": "execute_result",
          "data": {
            "text/plain": [
              "KNeighborsRegressor()"
            ]
          },
          "metadata": {},
          "execution_count": 97
        }
      ]
    },
    {
      "cell_type": "code",
      "source": [
        "y_predict = KNN.predict(x_train) #x_test 데이터에 대한 KNN 예측값을 y_predict로\n",
        "score = r2_score(y_train, y_predict) #분산 기반으로 예측 성능을 평가하는 R^2함수 1에 가까울수록 예측 정확도가 높다\n",
        "mse = mean_squared_error(y_train,y_predict) #y_train과 y_predict의 차이를 제곱해 평균하는 MSE 함수\n",
        "print(score) \n",
        "print(mse)"
      ],
      "metadata": {
        "id": "A38LYJB_kY4d",
        "colab": {
          "base_uri": "https://localhost:8080/"
        },
        "outputId": "210822fd-a4ee-4074-e015-d4c84b0a54b6"
      },
      "execution_count": null,
      "outputs": [
        {
          "output_type": "stream",
          "name": "stdout",
          "text": [
            "0.4480569574296416\n",
            "0.7393650965078215\n"
          ]
        }
      ]
    },
    {
      "cell_type": "code",
      "source": [
        "y_predict = KNN.predict(x_test) #x_test 데이터에 대한 KNN 예측값을 y_predict로\n",
        "score = r2_score(y_test, y_predict) #y_test 데이터와 y_precdict 데이터의 정확도 구하기\n",
        "mse = mean_squared_error(y_test,y_predict) #y_test와 y_predict의 차이를 제곱해 평균하는 MSE 함수\n",
        "print(score) #정확도 출력\n",
        "print(mse) #MSE 출력"
      ],
      "metadata": {
        "id": "B2-GKCfMkZyL",
        "colab": {
          "base_uri": "https://localhost:8080/"
        },
        "outputId": "c3e06e7d-424b-4443-f2f3-d16ec8e245a6"
      },
      "execution_count": null,
      "outputs": [
        {
          "output_type": "stream",
          "name": "stdout",
          "text": [
            "0.15486020652191945\n",
            "1.0982204890354108\n"
          ]
        }
      ]
    }
  ]
}