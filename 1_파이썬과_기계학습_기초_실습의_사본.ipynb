{
  "nbformat": 4,
  "nbformat_minor": 0,
  "metadata": {
    "colab": {
      "name": "1. 파이썬과 기계학습 기초 실습의 사본",
      "provenance": [],
      "collapsed_sections": [],
      "include_colab_link": true
    },
    "kernelspec": {
      "name": "python3",
      "display_name": "Python 3"
    },
    "language_info": {
      "name": "python"
    }
  },
  "cells": [
    {
      "cell_type": "markdown",
      "metadata": {
        "id": "view-in-github",
        "colab_type": "text"
      },
      "source": [
        "<a href=\"https://colab.research.google.com/github/jjuhyeok/Machine_Learning/blob/master/1_%ED%8C%8C%EC%9D%B4%EC%8D%AC%EA%B3%BC_%EA%B8%B0%EA%B3%84%ED%95%99%EC%8A%B5_%EA%B8%B0%EC%B4%88_%EC%8B%A4%EC%8A%B5%EC%9D%98_%EC%82%AC%EB%B3%B8.ipynb\" target=\"_parent\"><img src=\"https://colab.research.google.com/assets/colab-badge.svg\" alt=\"Open In Colab\"/></a>"
      ]
    },
    {
      "cell_type": "code",
      "execution_count": null,
      "metadata": {
        "id": "NCnlTCUlgQLb"
      },
      "outputs": [],
      "source": [
        "import numpy as np #숫자에 관련된 라이브러리\n",
        "import pandas as pd #데이터 처리를 하는 라이브러리 "
      ]
    },
    {
      "cell_type": "code",
      "source": [
        "from sklearn.datasets import fetch_california_housing\n",
        "from sklearn.model_selection import train_test_split\n",
        "from sklearn.linear_model import LinearRegression #회귀모델\n",
        "from sklearn.metrics import r2_score "
      ],
      "metadata": {
        "id": "GoR_tS6_g9sQ"
      },
      "execution_count": null,
      "outputs": []
    },
    {
      "cell_type": "code",
      "source": [
        "dataset = fetch_california_housing()\n",
        "\n",
        "print(dataset.DESCR) #20640개 "
      ],
      "metadata": {
        "id": "YkBBt3WVg_8_",
        "colab": {
          "base_uri": "https://localhost:8080/"
        },
        "outputId": "fe798434-8a72-4215-9169-3673b81f15c4"
      },
      "execution_count": null,
      "outputs": [
        {
          "output_type": "stream",
          "name": "stdout",
          "text": [
            ".. _california_housing_dataset:\n",
            "\n",
            "California Housing dataset\n",
            "--------------------------\n",
            "\n",
            "**Data Set Characteristics:**\n",
            "\n",
            "    :Number of Instances: 20640\n",
            "\n",
            "    :Number of Attributes: 8 numeric, predictive attributes and the target\n",
            "\n",
            "    :Attribute Information:\n",
            "        - MedInc        median income in block group\n",
            "        - HouseAge      median house age in block group\n",
            "        - AveRooms      average number of rooms per household\n",
            "        - AveBedrms     average number of bedrooms per household\n",
            "        - Population    block group population\n",
            "        - AveOccup      average number of household members\n",
            "        - Latitude      block group latitude\n",
            "        - Longitude     block group longitude\n",
            "\n",
            "    :Missing Attribute Values: None\n",
            "\n",
            "This dataset was obtained from the StatLib repository.\n",
            "https://www.dcc.fc.up.pt/~ltorgo/Regression/cal_housing.html\n",
            "\n",
            "The target variable is the median house value for California districts,\n",
            "expressed in hundreds of thousands of dollars ($100,000).\n",
            "\n",
            "This dataset was derived from the 1990 U.S. census, using one row per census\n",
            "block group. A block group is the smallest geographical unit for which the U.S.\n",
            "Census Bureau publishes sample data (a block group typically has a population\n",
            "of 600 to 3,000 people).\n",
            "\n",
            "An household is a group of people residing within a home. Since the average\n",
            "number of rooms and bedrooms in this dataset are provided per household, these\n",
            "columns may take surpinsingly large values for block groups with few households\n",
            "and many empty houses, such as vacation resorts.\n",
            "\n",
            "It can be downloaded/loaded using the\n",
            ":func:`sklearn.datasets.fetch_california_housing` function.\n",
            "\n",
            ".. topic:: References\n",
            "\n",
            "    - Pace, R. Kelley and Ronald Barry, Sparse Spatial Autoregressions,\n",
            "      Statistics and Probability Letters, 33 (1997) 291-297\n",
            "\n"
          ]
        }
      ]
    },
    {
      "cell_type": "code",
      "source": [
        "x_data = pd.DataFrame(dataset.data, columns=dataset.feature_names)\n",
        "y_data = pd.DataFrame(dataset.target) #.target은 어디서 나온거지?\n",
        "\n",
        "print(x_data)\n",
        "print(y_data)"
      ],
      "metadata": {
        "id": "fhSBqGZ9iplE",
        "colab": {
          "base_uri": "https://localhost:8080/"
        },
        "outputId": "daa78abf-d301-4f51-caf9-cf770fa23d8d"
      },
      "execution_count": null,
      "outputs": [
        {
          "output_type": "stream",
          "name": "stdout",
          "text": [
            "       MedInc  HouseAge  AveRooms  AveBedrms  Population  AveOccup  Latitude  \\\n",
            "0      8.3252      41.0  6.984127   1.023810       322.0  2.555556     37.88   \n",
            "1      8.3014      21.0  6.238137   0.971880      2401.0  2.109842     37.86   \n",
            "2      7.2574      52.0  8.288136   1.073446       496.0  2.802260     37.85   \n",
            "3      5.6431      52.0  5.817352   1.073059       558.0  2.547945     37.85   \n",
            "4      3.8462      52.0  6.281853   1.081081       565.0  2.181467     37.85   \n",
            "...       ...       ...       ...        ...         ...       ...       ...   \n",
            "20635  1.5603      25.0  5.045455   1.133333       845.0  2.560606     39.48   \n",
            "20636  2.5568      18.0  6.114035   1.315789       356.0  3.122807     39.49   \n",
            "20637  1.7000      17.0  5.205543   1.120092      1007.0  2.325635     39.43   \n",
            "20638  1.8672      18.0  5.329513   1.171920       741.0  2.123209     39.43   \n",
            "20639  2.3886      16.0  5.254717   1.162264      1387.0  2.616981     39.37   \n",
            "\n",
            "       Longitude  \n",
            "0        -122.23  \n",
            "1        -122.22  \n",
            "2        -122.24  \n",
            "3        -122.25  \n",
            "4        -122.25  \n",
            "...          ...  \n",
            "20635    -121.09  \n",
            "20636    -121.21  \n",
            "20637    -121.22  \n",
            "20638    -121.32  \n",
            "20639    -121.24  \n",
            "\n",
            "[20640 rows x 8 columns]\n",
            "           0\n",
            "0      4.526\n",
            "1      3.585\n",
            "2      3.521\n",
            "3      3.413\n",
            "4      3.422\n",
            "...      ...\n",
            "20635  0.781\n",
            "20636  0.771\n",
            "20637  0.923\n",
            "20638  0.847\n",
            "20639  0.894\n",
            "\n",
            "[20640 rows x 1 columns]\n"
          ]
        }
      ]
    },
    {
      "cell_type": "code",
      "source": [
        "print(dataset.target)"
      ],
      "metadata": {
        "colab": {
          "base_uri": "https://localhost:8080/"
        },
        "id": "PUkY9fx5yHh_",
        "outputId": "352707f7-8850-4269-d896-c3113f35a8b3"
      },
      "execution_count": null,
      "outputs": [
        {
          "output_type": "stream",
          "name": "stdout",
          "text": [
            "[4.526 3.585 3.521 ... 0.923 0.847 0.894]\n"
          ]
        }
      ]
    },
    {
      "cell_type": "code",
      "source": [
        "print(x_data.shape)"
      ],
      "metadata": {
        "id": "e2b9w7ddkns2",
        "colab": {
          "base_uri": "https://localhost:8080/"
        },
        "outputId": "056f7ad8-61a2-4001-bbc6-49698283dd97"
      },
      "execution_count": null,
      "outputs": [
        {
          "output_type": "stream",
          "name": "stdout",
          "text": [
            "(20640, 8)\n"
          ]
        }
      ]
    },
    {
      "cell_type": "code",
      "source": [
        "print(x_data.describe())"
      ],
      "metadata": {
        "id": "kg_Pyot3kyAE",
        "colab": {
          "base_uri": "https://localhost:8080/"
        },
        "outputId": "87d8f43b-8bbf-4d01-fd55-18dbcc5dbd97"
      },
      "execution_count": null,
      "outputs": [
        {
          "output_type": "stream",
          "name": "stdout",
          "text": [
            "             MedInc      HouseAge      AveRooms     AveBedrms    Population  \\\n",
            "count  20640.000000  20640.000000  20640.000000  20640.000000  20640.000000   \n",
            "mean       3.870671     28.639486      5.429000      1.096675   1425.476744   \n",
            "std        1.899822     12.585558      2.474173      0.473911   1132.462122   \n",
            "min        0.499900      1.000000      0.846154      0.333333      3.000000   \n",
            "25%        2.563400     18.000000      4.440716      1.006079    787.000000   \n",
            "50%        3.534800     29.000000      5.229129      1.048780   1166.000000   \n",
            "75%        4.743250     37.000000      6.052381      1.099526   1725.000000   \n",
            "max       15.000100     52.000000    141.909091     34.066667  35682.000000   \n",
            "\n",
            "           AveOccup      Latitude     Longitude  \n",
            "count  20640.000000  20640.000000  20640.000000  \n",
            "mean       3.070655     35.631861   -119.569704  \n",
            "std       10.386050      2.135952      2.003532  \n",
            "min        0.692308     32.540000   -124.350000  \n",
            "25%        2.429741     33.930000   -121.800000  \n",
            "50%        2.818116     34.260000   -118.490000  \n",
            "75%        3.282261     37.710000   -118.010000  \n",
            "max     1243.333333     41.950000   -114.310000  \n"
          ]
        }
      ]
    },
    {
      "cell_type": "code",
      "source": [
        "x_train, x_test, y_train, y_test = train_test_split(x_data, y_data, test_size=0.3) #test_size 는 0.3이 테스트셋으로 0.7이 데이터셋으로\n",
        "\n",
        "print(x_train)\n",
        "print(y_train)"
      ],
      "metadata": {
        "id": "KmU9_rezjTv8",
        "colab": {
          "base_uri": "https://localhost:8080/"
        },
        "outputId": "85997b8c-eae2-495f-ca1d-e3a457be0f89"
      },
      "execution_count": null,
      "outputs": [
        {
          "output_type": "stream",
          "name": "stdout",
          "text": [
            "       MedInc  HouseAge  AveRooms  AveBedrms  Population  AveOccup  Latitude  \\\n",
            "14668  3.6458      35.0  5.341176   0.952941       698.0  2.737255     32.79   \n",
            "20345  4.6458      18.0  5.719266   1.069725      2079.0  3.814679     34.22   \n",
            "9271   6.4092      14.0  6.528902   0.985549      1127.0  3.257225     38.15   \n",
            "8499   4.2171      32.0  4.124343   1.021016      1605.0  2.810858     33.89   \n",
            "17077  5.1654      41.0  5.235714   1.107143       652.0  4.657143     37.48   \n",
            "...       ...       ...       ...        ...         ...       ...       ...   \n",
            "7723   4.6750      33.0  6.060440   1.079670       973.0  2.673077     33.94   \n",
            "10496  4.4732      16.0  6.000000   1.061350       862.0  2.644172     33.50   \n",
            "4419   1.9209      45.0  2.809343   1.044192      2699.0  3.407828     34.08   \n",
            "12054  2.3160      35.0  4.100467   1.042056      1453.0  3.394860     33.88   \n",
            "1684   3.2759      18.0  5.340674   1.132124      1895.0  2.454663     38.01   \n",
            "\n",
            "       Longitude  \n",
            "14668    -117.13  \n",
            "20345    -119.04  \n",
            "9271     -122.62  \n",
            "8499     -118.29  \n",
            "17077    -122.20  \n",
            "...          ...  \n",
            "7723     -118.12  \n",
            "10496    -117.66  \n",
            "4419     -118.26  \n",
            "12054    -117.57  \n",
            "1684     -122.31  \n",
            "\n",
            "[14448 rows x 8 columns]\n",
            "           0\n",
            "14668  1.738\n",
            "20345  2.228\n",
            "9271   3.349\n",
            "8499   2.182\n",
            "17077  2.336\n",
            "...      ...\n",
            "7723   2.830\n",
            "10496  1.863\n",
            "4419   1.792\n",
            "12054  1.194\n",
            "1684   1.950\n",
            "\n",
            "[14448 rows x 1 columns]\n"
          ]
        }
      ]
    },
    {
      "cell_type": "code",
      "source": [
        "print(x_test)\n",
        "print(y_test)"
      ],
      "metadata": {
        "colab": {
          "base_uri": "https://localhost:8080/"
        },
        "id": "mPCiToTevnkB",
        "outputId": "b6f07575-ce7c-4190-b9b9-27a0aa82a1d2"
      },
      "execution_count": null,
      "outputs": [
        {
          "output_type": "stream",
          "name": "stdout",
          "text": [
            "       MedInc  HouseAge  AveRooms  AveBedrms  Population  AveOccup  Latitude  \\\n",
            "19286  2.5917      43.0  4.548822   0.932660      1011.0  3.404040     38.41   \n",
            "2527   2.3566      22.0  5.496633   1.107744      1647.0  2.772727     39.53   \n",
            "16832  4.3542      36.0  6.311203   1.049793       736.0  3.053942     37.59   \n",
            "10565  4.3636      15.0  3.794355   1.072581       366.0  1.475806     33.72   \n",
            "11430  5.8541      22.0  6.448105   0.988468      1871.0  3.082372     33.66   \n",
            "...       ...       ...       ...        ...         ...       ...       ...   \n",
            "15951  3.9565      48.0  4.953704   1.083333      1773.0  3.283333     37.72   \n",
            "15058  6.7685      21.0  8.452915   1.100897      1410.0  3.161435     32.79   \n",
            "16646  2.5455      32.0  3.878788   1.038961       548.0  2.372294     35.28   \n",
            "15299  3.3536      17.0  4.241996   1.073446      2111.0  1.987759     33.15   \n",
            "18439  5.9164      23.0  6.605195   1.007792      1297.0  3.368831     37.24   \n",
            "\n",
            "       Longitude  \n",
            "19286    -122.78  \n",
            "2527     -122.20  \n",
            "16832    -122.50  \n",
            "10565    -117.76  \n",
            "11430    -117.97  \n",
            "...          ...  \n",
            "15951    -122.44  \n",
            "15058    -116.90  \n",
            "16646    -120.65  \n",
            "15299    -117.34  \n",
            "18439    -121.83  \n",
            "\n",
            "[6192 rows x 8 columns]\n",
            "           0\n",
            "19286  1.440\n",
            "2527   0.710\n",
            "16832  2.375\n",
            "10565  1.484\n",
            "11430  2.815\n",
            "...      ...\n",
            "15951  2.685\n",
            "15058  2.947\n",
            "16646  1.659\n",
            "15299  2.833\n",
            "18439  2.374\n",
            "\n",
            "[6192 rows x 1 columns]\n"
          ]
        }
      ]
    },
    {
      "cell_type": "code",
      "source": [
        "estimator = LinearRegression()"
      ],
      "metadata": {
        "id": "IJ66-fbWj_OX"
      },
      "execution_count": null,
      "outputs": []
    },
    {
      "cell_type": "code",
      "source": [
        "estimator.fit(x_train, y_train) #fit : 학습을 시켜주는 함수 estimator가 LinearRegression이니 LinearRegression 기법으로 학습을 하겠다는 코드"
      ],
      "metadata": {
        "id": "TZH1Daf6kXps",
        "colab": {
          "base_uri": "https://localhost:8080/"
        },
        "outputId": "7a6e40d8-2620-4296-df2c-badf0415f18a"
      },
      "execution_count": null,
      "outputs": [
        {
          "output_type": "execute_result",
          "data": {
            "text/plain": [
              "LinearRegression()"
            ]
          },
          "metadata": {},
          "execution_count": 10
        }
      ]
    },
    {
      "cell_type": "code",
      "source": [
        "y_predict = estimator.predict(x_train) \n",
        "score = r2_score(y_train, y_predict)\n",
        "print(score) #1.0"
      ],
      "metadata": {
        "id": "A38LYJB_kY4d",
        "colab": {
          "base_uri": "https://localhost:8080/"
        },
        "outputId": "8db41e3e-6ea7-4c7b-c32f-e50d5bfd654a"
      },
      "execution_count": null,
      "outputs": [
        {
          "output_type": "stream",
          "name": "stdout",
          "text": [
            "0.6125773976876483\n"
          ]
        }
      ]
    },
    {
      "cell_type": "code",
      "source": [
        "y_predict = estimator.predict(x_test) \n",
        "score = r2_score(y_test, y_predict)\n",
        "print(score) #1.0"
      ],
      "metadata": {
        "id": "B2-GKCfMkZyL",
        "colab": {
          "base_uri": "https://localhost:8080/"
        },
        "outputId": "06ca7aa3-2737-4215-8f99-03bedf124186"
      },
      "execution_count": null,
      "outputs": [
        {
          "output_type": "stream",
          "name": "stdout",
          "text": [
            "0.5853680338231148\n"
          ]
        }
      ]
    }
  ]
}