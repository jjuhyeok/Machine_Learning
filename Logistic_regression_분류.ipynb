{
  "nbformat": 4,
  "nbformat_minor": 0,
  "metadata": {
    "colab": {
      "name": "Logistic regression 분류",
      "provenance": [],
      "collapsed_sections": [],
      "authorship_tag": "ABX9TyObdTBG09jMceq2PNiqcxyi",
      "include_colab_link": true
    },
    "kernelspec": {
      "name": "python3",
      "display_name": "Python 3"
    },
    "language_info": {
      "name": "python"
    }
  },
  "cells": [
    {
      "cell_type": "markdown",
      "metadata": {
        "id": "view-in-github",
        "colab_type": "text"
      },
      "source": [
        "<a href=\"https://colab.research.google.com/github/jjuhyeok/Machine_Learning/blob/master/Logistic_regression_%EB%B6%84%EB%A5%98.ipynb\" target=\"_parent\"><img src=\"https://colab.research.google.com/assets/colab-badge.svg\" alt=\"Open In Colab\"/></a>"
      ]
    },
    {
      "cell_type": "code",
      "execution_count": 1,
      "metadata": {
        "id": "POnmIkIWwYOf"
      },
      "outputs": [],
      "source": [
        "import pandas as pd #숫자에 관한 라이브러리인 판다스를 임포트 하고 pd로 불러오는 코드\n",
        "import numpy as np #데이터 처리에 관한 라이브러리인 넘파이를 임포트 하고 np로 불러오는 코드"
      ]
    },
    {
      "cell_type": "code",
      "source": [
        "from sklearn.datasets import load_iris #사이킷런에 내장된 데이터셋중 iris 데이터를 불러오는 코드"
      ],
      "metadata": {
        "id": "z3MFTIibxqvH"
      },
      "execution_count": 2,
      "outputs": []
    },
    {
      "cell_type": "code",
      "source": [
        "from sklearn.model_selection import train_test_split #데이터를 자동으로 섞어 train set과 test set으로\n",
        "#분리해주는 train_test_split 함수를 불러온다\n",
        "#from sklearn.neighbors import KNeighborsClassifier #최근접 이웃 분류 알고리즘을 사용하기 위해\n",
        "# 사이킷런에 있는 KNeighborsClassifier를 불러와준다\n",
        "from sklearn.linear_model import LogisticRegression\n",
        "from sklearn.preprocessing import StandardScaler"
      ],
      "metadata": {
        "id": "F1J2wlGbx86x"
      },
      "execution_count": 3,
      "outputs": []
    },
    {
      "cell_type": "code",
      "source": [
        "iris = load_iris() #iris 데이터를 이름이 iris인 변수를 선언해서 대입"
      ],
      "metadata": {
        "id": "jDOWPK7ZyA_P"
      },
      "execution_count": 4,
      "outputs": []
    },
    {
      "cell_type": "code",
      "source": [
        "X_train, X_test, y_train, y_test = train_test_split(iris['data'], iris['target'], test_size=0.2,random_state = 22)\n",
        "#train과 test 데이터가 같으면 모두 맞는 결과를 도출하기 때문에 train 데이터와 test 데이터를 나누어준다\n",
        "#train_test_split 함수는 데이터를 자동으로 랜덤하게 섞어줘서 train과 test 데이터로 분리를 시켜준다\n",
        "#test_size는 전체 데이터중 20퍼센트만 test 데이터의 크기로 지정해주는 코드이다\n",
        "#random_state를 설정해주지 않으면 실행시킬때마다 코드의 결과가 새롭게 달라지기 때문에 22라고 고유의 값을 지정해줘서\n",
        "#22로 실행시킬때마다 똑같은 값을 도출하게 정해준다"
      ],
      "metadata": {
        "id": "dgGDz_xQ-93g"
      },
      "execution_count": 5,
      "outputs": []
    },
    {
      "cell_type": "code",
      "source": [
        "model = LogisticRegression(C = 10.0, random_state = 22)\n",
        "#Logistic Regression에서 C는 규제 강도로 C의 값을 조정해 과적합, 과소적합 문제를 해결한다\n",
        "#C의 값이 크면 훈련을 강하게 해서 약한 규제로 되며\n",
        "#C읙 값이 작다면 훈련을 약하게 해서 강한 규제가 된다"
      ],
      "metadata": {
        "id": "Q18I0_DN5gTc"
      },
      "execution_count": 6,
      "outputs": []
    },
    {
      "cell_type": "code",
      "source": [
        "model.fit(X_train, y_train) #입력값X_train과 정답y_train을 넣고 학습시키는 과정"
      ],
      "metadata": {
        "colab": {
          "base_uri": "https://localhost:8080/"
        },
        "id": "54KQaik9ApV9",
        "outputId": "9ed2eb1c-b92f-45d2-f183-2d804107d40a"
      },
      "execution_count": 7,
      "outputs": [
        {
          "output_type": "stream",
          "name": "stderr",
          "text": [
            "/usr/local/lib/python3.7/dist-packages/sklearn/linear_model/_logistic.py:818: ConvergenceWarning: lbfgs failed to converge (status=1):\n",
            "STOP: TOTAL NO. of ITERATIONS REACHED LIMIT.\n",
            "\n",
            "Increase the number of iterations (max_iter) or scale the data as shown in:\n",
            "    https://scikit-learn.org/stable/modules/preprocessing.html\n",
            "Please also refer to the documentation for alternative solver options:\n",
            "    https://scikit-learn.org/stable/modules/linear_model.html#logistic-regression\n",
            "  extra_warning_msg=_LOGISTIC_SOLVER_CONVERGENCE_MSG,\n"
          ]
        },
        {
          "output_type": "execute_result",
          "data": {
            "text/plain": [
              "LogisticRegression(C=10.0, random_state=22)"
            ]
          },
          "metadata": {},
          "execution_count": 7
        }
      ]
    },
    {
      "cell_type": "code",
      "source": [
        "y_prediction = model.predict(X_test) #테스트 데이터를 넣고 예측값을 y_prediction에 대입"
      ],
      "metadata": {
        "id": "nRhyvW8CBvE1"
      },
      "execution_count": 8,
      "outputs": []
    },
    {
      "cell_type": "code",
      "source": [
        "from sklearn.metrics import accuracy_score #정답값과 예측값의 정확도를 평가하기 위해 accuracy_score를 import\n",
        "score = accuracy_score(y_test, y_prediction) #테스터 데이터의 정답값과 예측값의 정확도를 비교\n",
        "print(score)#정확도 출력"
      ],
      "metadata": {
        "colab": {
          "base_uri": "https://localhost:8080/"
        },
        "id": "Ykf7f5m-B9Ca",
        "outputId": "f9a9f54e-b141-448a-bb09-efdf9e1c0b70"
      },
      "execution_count": 9,
      "outputs": [
        {
          "output_type": "stream",
          "name": "stdout",
          "text": [
            "0.9666666666666667\n"
          ]
        }
      ]
    }
  ]
}